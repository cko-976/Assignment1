{
 "cells": [
  {
   "cell_type": "markdown",
   "metadata": {},
   "source": [
    "# Overview\n",
    "\n",
    "## Goals\n",
    "\n",
    "The goal of this assigment is to determine if gender and age played a part in the survival of the passengers in the MS Estonia ship. We will do this by looking at how many women and men survived, compared to the number of men and women on the ship. For the age we will look at the age of those who survived, compared to the age of the those on the ship.\n",
    "\n",
    "My hypothesis is that neither gender nor age affected survival of the passengers in MS Estonia ship.\n",
    "\n",
    "# Process\n",
    "\n",
    "## The Cleaning the Data\n",
    "\n",
    "- Checked the column headings, they did not have any white space so I did not need to remove the white space.\n",
    "- Checked for missing data. After running .info() it showed there was no missing data in all 8 columns. \n",
    "- Checked for outlier, there were no outliers.\n",
    "\n",
    "#### Note:\n",
    "The data set is probably clean because passenger ships and other mode of transport such as planes always take an accurate inventory of everyone on board. Given that this data is based on an actual paassenger records that may explain its cleanliness."
   ]
  },
  {
   "cell_type": "markdown",
   "metadata": {},
   "source": [
    "## The Evaluating the Data\n",
    "   \n",
    "- From the data indicates there were 989 passengers.\n",
    "- Only 137 survived, 852 passengers died. \n",
    "   \n",
    "### Gender\n",
    "- Created a graph that clearly showed that the men were slightly than women. After analysing we see that there were 486 women and 503 men in the ship. This is almost a one to one ratio. \n",
    "- When the data was grouped there were only 27 women and 110 men who survived. This is almost a 1:4 ratio.\n",
    "\n",
    "### Age\n",
    "- From the graph it is evident that majority of the people were between the age 20 and 70. The mean age of the passengers was 44.575, while the median age was 44. I used both to see if there was a major difference in the result of the median and mean and in this case there was a minor difference. Also there were no outliers to affect the mean.\n",
    "- The median age of the women in the ship was 46 and the median age of the men was 42. This is close to the age of all the passengers.\n",
    "- The median age of those who died was 46.5, but the median age of those who survived was way lower it was 32. This is way lower than the median age of the passengers."
   ]
  },
  {
   "cell_type": "markdown",
   "metadata": {},
   "source": [
    "# Conclusion\n",
    "\n",
    "## Gender\n",
    "\n",
    "- From the data we saw that the ratio of men to women who board the ship was almost one to one. \n",
    "- However, only 27 women survived compare to 110 men. This is a ratio of almost one to four.\n",
    "- Therefore, we can safely conclude that gender was a factor in the among those who survived. \n",
    "\n",
    "## Age\n",
    "- The median age of the passengers was 44. However, the median age of those who survived was only 32. \n",
    "- This is more than a 10 year difference between those who died and those who survived. \n",
    "- We can therefore conclude that age was a major factor among those who survived.\n",
    "\n",
    "\n",
    "- In conclusion, the results of the data indicate that gender and age may have played a part among those who survived."
   ]
  },
  {
   "cell_type": "markdown",
   "metadata": {},
   "source": [
    "## Other Pertinent Information\n",
    "\n",
    "### Tools and Techniques\n",
    "\n",
    "The tools used was Anaconda, the library used was pandas, matplotlib, seaborn and numpy. Pandas was used for the analysis of the data. The rest were used to create graphs. One of the main techniques used was grouping. \n",
    "\n",
    "### Challenges\n",
    "\n",
    "The main challenge was finding data that was .csv, finally I was able to find data in Kaggle.com. Another challenge was how to group the data, but with further reading it was possible to resolve the issue. \n",
    "\n",
    "### Limitations\n",
    "The evaluation only looks at two variables that are insufficient in looking at a complex situation, in this case, the disaster of MS Estonia. In a disaster like this many unknowns factors still remain. "
   ]
  },
  {
   "cell_type": "markdown",
   "metadata": {},
   "source": [
    "### Reference\n",
    "\n",
    "Jake Vanderplas, [Python Data Science Handbook](https://jakevdp.github.io/PythonDataScienceHandbook/index.html)"
   ]
  }
 ],
 "metadata": {
  "kernelspec": {
   "display_name": "Python 3",
   "language": "python",
   "name": "python3"
  },
  "language_info": {
   "codemirror_mode": {
    "name": "ipython",
    "version": 3
   },
   "file_extension": ".py",
   "mimetype": "text/x-python",
   "name": "python",
   "nbconvert_exporter": "python",
   "pygments_lexer": "ipython3",
   "version": "3.8.3"
  }
 },
 "nbformat": 4,
 "nbformat_minor": 4
}
